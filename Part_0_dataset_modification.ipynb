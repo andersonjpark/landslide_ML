{
 "cells": [
  {
   "cell_type": "code",
   "execution_count": 2,
   "metadata": {},
   "outputs": [],
   "source": [
    "import os\n",
    "import numpy as np\n",
    "import pandas as pd\n",
    "import matplotlib.pyplot as plt\n",
    "%matplotlib inline"
   ]
  },
  {
   "cell_type": "code",
   "execution_count": 3,
   "metadata": {},
   "outputs": [],
   "source": [
    "raw_data = pd.read_csv(\"global_landslides.csv\")"
   ]
  },
  {
   "cell_type": "code",
   "execution_count": 4,
   "metadata": {},
   "outputs": [
    {
     "data": {
      "text/html": [
       "<div>\n",
       "<style scoped>\n",
       "    .dataframe tbody tr th:only-of-type {\n",
       "        vertical-align: middle;\n",
       "    }\n",
       "\n",
       "    .dataframe tbody tr th {\n",
       "        vertical-align: top;\n",
       "    }\n",
       "\n",
       "    .dataframe thead th {\n",
       "        text-align: right;\n",
       "    }\n",
       "</style>\n",
       "<table border=\"1\" class=\"dataframe\">\n",
       "  <thead>\n",
       "    <tr style=\"text-align: right;\">\n",
       "      <th></th>\n",
       "      <th>id</th>\n",
       "      <th>date</th>\n",
       "      <th>time</th>\n",
       "      <th>country</th>\n",
       "      <th>nearest_places</th>\n",
       "      <th>hazard_type</th>\n",
       "      <th>landslide_type</th>\n",
       "      <th>trigger</th>\n",
       "      <th>storm_name</th>\n",
       "      <th>fatalities</th>\n",
       "      <th>...</th>\n",
       "      <th>population</th>\n",
       "      <th>countrycode</th>\n",
       "      <th>continentcode</th>\n",
       "      <th>key</th>\n",
       "      <th>version</th>\n",
       "      <th>tstamp</th>\n",
       "      <th>changeset_id</th>\n",
       "      <th>latitude</th>\n",
       "      <th>longitude</th>\n",
       "      <th>geolocation</th>\n",
       "    </tr>\n",
       "  </thead>\n",
       "  <tbody>\n",
       "    <tr>\n",
       "      <th>0</th>\n",
       "      <td>1</td>\n",
       "      <td>01/02/2007</td>\n",
       "      <td>NaN</td>\n",
       "      <td>United Kingdom</td>\n",
       "      <td>Whitehaven, Cumbria</td>\n",
       "      <td>landslide</td>\n",
       "      <td>Landslide</td>\n",
       "      <td>Rain</td>\n",
       "      <td>NaN</td>\n",
       "      <td>1.0</td>\n",
       "      <td>...</td>\n",
       "      <td>24803.0</td>\n",
       "      <td>GB</td>\n",
       "      <td>EU</td>\n",
       "      <td>sGaiIKdcW</td>\n",
       "      <td>1.0</td>\n",
       "      <td>Tue Apr 01 2014 00:00:00 GMT+0000 (UTC)</td>\n",
       "      <td>1.0</td>\n",
       "      <td>54.549400</td>\n",
       "      <td>-3.587500</td>\n",
       "      <td>(54.549399999999999, -3.5874999999999999)</td>\n",
       "    </tr>\n",
       "    <tr>\n",
       "      <th>1</th>\n",
       "      <td>2</td>\n",
       "      <td>01/03/2007</td>\n",
       "      <td>NaN</td>\n",
       "      <td>Peru</td>\n",
       "      <td>Alto Mesapata, in the Pasco province</td>\n",
       "      <td>landslide</td>\n",
       "      <td>Complex</td>\n",
       "      <td>Rain</td>\n",
       "      <td>NaN</td>\n",
       "      <td>NaN</td>\n",
       "      <td>...</td>\n",
       "      <td>0.0</td>\n",
       "      <td>PE</td>\n",
       "      <td>SA</td>\n",
       "      <td>S95OsumK4</td>\n",
       "      <td>1.0</td>\n",
       "      <td>Tue Apr 01 2014 00:00:00 GMT+0000 (UTC)</td>\n",
       "      <td>1.0</td>\n",
       "      <td>-10.383800</td>\n",
       "      <td>-75.426700</td>\n",
       "      <td>(-10.383800000000001, -75.426699999999997)</td>\n",
       "    </tr>\n",
       "    <tr>\n",
       "      <th>2</th>\n",
       "      <td>3</td>\n",
       "      <td>01/05/2007</td>\n",
       "      <td>NaN</td>\n",
       "      <td>Brazil</td>\n",
       "      <td>Nova Friburgo, Rio de Janeiro</td>\n",
       "      <td>landslide</td>\n",
       "      <td>Landslide</td>\n",
       "      <td>Rain</td>\n",
       "      <td>NaN</td>\n",
       "      <td>7.0</td>\n",
       "      <td>...</td>\n",
       "      <td>153361.0</td>\n",
       "      <td>BR</td>\n",
       "      <td>SA</td>\n",
       "      <td>D5vlNdgB7</td>\n",
       "      <td>1.0</td>\n",
       "      <td>Tue Apr 01 2014 00:00:00 GMT+0000 (UTC)</td>\n",
       "      <td>1.0</td>\n",
       "      <td>-22.282346</td>\n",
       "      <td>-42.536362</td>\n",
       "      <td>(-22.282346350000001, -42.536362050000001)</td>\n",
       "    </tr>\n",
       "    <tr>\n",
       "      <th>3</th>\n",
       "      <td>4</td>\n",
       "      <td>01/05/2007</td>\n",
       "      <td>NaN</td>\n",
       "      <td>Brazil</td>\n",
       "      <td>Sumidouro, Rio de Janeiro</td>\n",
       "      <td>landslide</td>\n",
       "      <td>Landslide</td>\n",
       "      <td>Rain</td>\n",
       "      <td>NaN</td>\n",
       "      <td>2.0</td>\n",
       "      <td>...</td>\n",
       "      <td>11555.0</td>\n",
       "      <td>BR</td>\n",
       "      <td>SA</td>\n",
       "      <td>h5J8IFdc4</td>\n",
       "      <td>1.0</td>\n",
       "      <td>Tue Apr 01 2014 00:00:00 GMT+0000 (UTC)</td>\n",
       "      <td>1.0</td>\n",
       "      <td>-22.045200</td>\n",
       "      <td>-42.673400</td>\n",
       "      <td>(-22.045200000000001, -42.673400000000001)</td>\n",
       "    </tr>\n",
       "    <tr>\n",
       "      <th>4</th>\n",
       "      <td>5</td>\n",
       "      <td>01/05/2007</td>\n",
       "      <td>NaN</td>\n",
       "      <td>Brazil</td>\n",
       "      <td>Jundiai, Sao Paulo</td>\n",
       "      <td>landslide</td>\n",
       "      <td>Landslide</td>\n",
       "      <td>Rain</td>\n",
       "      <td>NaN</td>\n",
       "      <td>1.0</td>\n",
       "      <td>...</td>\n",
       "      <td>54415.0</td>\n",
       "      <td>BR</td>\n",
       "      <td>SA</td>\n",
       "      <td>s5Zb5FdB4</td>\n",
       "      <td>1.0</td>\n",
       "      <td>Tue Apr 01 2014 00:00:00 GMT+0000 (UTC)</td>\n",
       "      <td>1.0</td>\n",
       "      <td>-23.231100</td>\n",
       "      <td>-46.613600</td>\n",
       "      <td>(-23.231100000000001, -46.613599999999998)</td>\n",
       "    </tr>\n",
       "  </tbody>\n",
       "</table>\n",
       "<p>5 rows × 34 columns</p>\n",
       "</div>"
      ],
      "text/plain": [
       "   id        date time         country                        nearest_places  \\\n",
       "0   1  01/02/2007  NaN  United Kingdom                   Whitehaven, Cumbria   \n",
       "1   2  01/03/2007  NaN            Peru  Alto Mesapata, in the Pasco province   \n",
       "2   3  01/05/2007  NaN          Brazil         Nova Friburgo, Rio de Janeiro   \n",
       "3   4  01/05/2007  NaN          Brazil             Sumidouro, Rio de Janeiro   \n",
       "4   5  01/05/2007  NaN          Brazil                    Jundiai, Sao Paulo   \n",
       "\n",
       "  hazard_type landslide_type trigger storm_name  fatalities  \\\n",
       "0   landslide      Landslide    Rain        NaN         1.0   \n",
       "1   landslide        Complex    Rain        NaN         NaN   \n",
       "2   landslide      Landslide    Rain        NaN         7.0   \n",
       "3   landslide      Landslide    Rain        NaN         2.0   \n",
       "4   landslide      Landslide    Rain        NaN         1.0   \n",
       "\n",
       "                      ...                      population countrycode  \\\n",
       "0                     ...                         24803.0          GB   \n",
       "1                     ...                             0.0          PE   \n",
       "2                     ...                        153361.0          BR   \n",
       "3                     ...                         11555.0          BR   \n",
       "4                     ...                         54415.0          BR   \n",
       "\n",
       "  continentcode        key version                                   tstamp  \\\n",
       "0            EU  sGaiIKdcW     1.0  Tue Apr 01 2014 00:00:00 GMT+0000 (UTC)   \n",
       "1            SA  S95OsumK4     1.0  Tue Apr 01 2014 00:00:00 GMT+0000 (UTC)   \n",
       "2            SA  D5vlNdgB7     1.0  Tue Apr 01 2014 00:00:00 GMT+0000 (UTC)   \n",
       "3            SA  h5J8IFdc4     1.0  Tue Apr 01 2014 00:00:00 GMT+0000 (UTC)   \n",
       "4            SA  s5Zb5FdB4     1.0  Tue Apr 01 2014 00:00:00 GMT+0000 (UTC)   \n",
       "\n",
       "  changeset_id   latitude  longitude  \\\n",
       "0          1.0  54.549400  -3.587500   \n",
       "1          1.0 -10.383800 -75.426700   \n",
       "2          1.0 -22.282346 -42.536362   \n",
       "3          1.0 -22.045200 -42.673400   \n",
       "4          1.0 -23.231100 -46.613600   \n",
       "\n",
       "                                  geolocation  \n",
       "0   (54.549399999999999, -3.5874999999999999)  \n",
       "1  (-10.383800000000001, -75.426699999999997)  \n",
       "2  (-22.282346350000001, -42.536362050000001)  \n",
       "3  (-22.045200000000001, -42.673400000000001)  \n",
       "4  (-23.231100000000001, -46.613599999999998)  \n",
       "\n",
       "[5 rows x 34 columns]"
      ]
     },
     "execution_count": 4,
     "metadata": {},
     "output_type": "execute_result"
    }
   ],
   "source": [
    "raw_data.head()"
   ]
  },
  {
   "cell_type": "code",
   "execution_count": 5,
   "metadata": {},
   "outputs": [
    {
     "name": "stdout",
     "output_type": "stream",
     "text": [
      "<class 'pandas.core.frame.DataFrame'>\n",
      "RangeIndex: 9564 entries, 0 to 9563\n",
      "Data columns (total 34 columns):\n",
      "id                      9564 non-null int64\n",
      "date                    9563 non-null object\n",
      "time                    4024 non-null object\n",
      "country                 6167 non-null object\n",
      "nearest_places          9472 non-null object\n",
      "hazard_type             9555 non-null object\n",
      "landslide_type          9546 non-null object\n",
      "trigger                 8808 non-null object\n",
      "storm_name              550 non-null object\n",
      "fatalities              8212 non-null float64\n",
      "injuries                3942 non-null float64\n",
      "source_name             5545 non-null object\n",
      "source_link             8233 non-null object\n",
      "location_description    4109 non-null object\n",
      "location_accuracy       9562 non-null object\n",
      "landslide_size          8774 non-null object\n",
      "photos_link             989 non-null object\n",
      "cat_src                 9528 non-null object\n",
      "cat_id                  9530 non-null float64\n",
      "countryname             9522 non-null object\n",
      "near                    9529 non-null object\n",
      "distance                9530 non-null float64\n",
      "adminname1              9447 non-null object\n",
      "adminname2              6542 non-null object\n",
      "population              9530 non-null float64\n",
      "countrycode             9520 non-null object\n",
      "continentcode           5754 non-null object\n",
      "key                     9536 non-null object\n",
      "version                 9555 non-null float64\n",
      "tstamp                  9555 non-null object\n",
      "changeset_id            9555 non-null float64\n",
      "latitude                9564 non-null float64\n",
      "longitude               9564 non-null float64\n",
      "geolocation             9564 non-null object\n",
      "dtypes: float64(9), int64(1), object(24)\n",
      "memory usage: 2.5+ MB\n"
     ]
    }
   ],
   "source": [
    "raw_data.info()"
   ]
  },
  {
   "cell_type": "code",
   "execution_count": 6,
   "metadata": {},
   "outputs": [
    {
     "data": {
      "text/html": [
       "<div>\n",
       "<style scoped>\n",
       "    .dataframe tbody tr th:only-of-type {\n",
       "        vertical-align: middle;\n",
       "    }\n",
       "\n",
       "    .dataframe tbody tr th {\n",
       "        vertical-align: top;\n",
       "    }\n",
       "\n",
       "    .dataframe thead th {\n",
       "        text-align: right;\n",
       "    }\n",
       "</style>\n",
       "<table border=\"1\" class=\"dataframe\">\n",
       "  <thead>\n",
       "    <tr style=\"text-align: right;\">\n",
       "      <th></th>\n",
       "      <th>id</th>\n",
       "      <th>fatalities</th>\n",
       "      <th>injuries</th>\n",
       "      <th>cat_id</th>\n",
       "      <th>distance</th>\n",
       "      <th>population</th>\n",
       "      <th>version</th>\n",
       "      <th>changeset_id</th>\n",
       "      <th>latitude</th>\n",
       "      <th>longitude</th>\n",
       "    </tr>\n",
       "  </thead>\n",
       "  <tbody>\n",
       "    <tr>\n",
       "      <th>count</th>\n",
       "      <td>9564.000000</td>\n",
       "      <td>8212.000000</td>\n",
       "      <td>3942.000000</td>\n",
       "      <td>9530.000000</td>\n",
       "      <td>9530.000000</td>\n",
       "      <td>9.530000e+03</td>\n",
       "      <td>9555.000000</td>\n",
       "      <td>9.555000e+03</td>\n",
       "      <td>9564.000000</td>\n",
       "      <td>9564.000000</td>\n",
       "    </tr>\n",
       "    <tr>\n",
       "      <th>mean</th>\n",
       "      <td>4824.008260</td>\n",
       "      <td>3.537141</td>\n",
       "      <td>0.852359</td>\n",
       "      <td>4806.020042</td>\n",
       "      <td>11.902521</td>\n",
       "      <td>1.568749e+05</td>\n",
       "      <td>1.121193</td>\n",
       "      <td>8.807481e+08</td>\n",
       "      <td>25.661806</td>\n",
       "      <td>3.815776</td>\n",
       "    </tr>\n",
       "    <tr>\n",
       "      <th>std</th>\n",
       "      <td>2799.040122</td>\n",
       "      <td>64.669763</td>\n",
       "      <td>8.280788</td>\n",
       "      <td>2792.516669</td>\n",
       "      <td>15.618193</td>\n",
       "      <td>8.272427e+05</td>\n",
       "      <td>0.326369</td>\n",
       "      <td>1.325119e+09</td>\n",
       "      <td>20.416185</td>\n",
       "      <td>100.238678</td>\n",
       "    </tr>\n",
       "    <tr>\n",
       "      <th>min</th>\n",
       "      <td>1.000000</td>\n",
       "      <td>0.000000</td>\n",
       "      <td>0.000000</td>\n",
       "      <td>1.000000</td>\n",
       "      <td>0.000030</td>\n",
       "      <td>0.000000e+00</td>\n",
       "      <td>1.000000</td>\n",
       "      <td>1.000000e+00</td>\n",
       "      <td>-46.774800</td>\n",
       "      <td>-170.799800</td>\n",
       "    </tr>\n",
       "    <tr>\n",
       "      <th>25%</th>\n",
       "      <td>2401.750000</td>\n",
       "      <td>0.000000</td>\n",
       "      <td>0.000000</td>\n",
       "      <td>2390.250000</td>\n",
       "      <td>2.367748</td>\n",
       "      <td>1.940000e+03</td>\n",
       "      <td>1.000000</td>\n",
       "      <td>1.000000e+00</td>\n",
       "      <td>13.579075</td>\n",
       "      <td>-104.920000</td>\n",
       "    </tr>\n",
       "    <tr>\n",
       "      <th>50%</th>\n",
       "      <td>4805.500000</td>\n",
       "      <td>0.000000</td>\n",
       "      <td>0.000000</td>\n",
       "      <td>4782.500000</td>\n",
       "      <td>6.264345</td>\n",
       "      <td>7.317000e+03</td>\n",
       "      <td>1.000000</td>\n",
       "      <td>1.000000e+00</td>\n",
       "      <td>29.855400</td>\n",
       "      <td>23.184050</td>\n",
       "    </tr>\n",
       "    <tr>\n",
       "      <th>75%</th>\n",
       "      <td>7253.250000</td>\n",
       "      <td>1.000000</td>\n",
       "      <td>0.000000</td>\n",
       "      <td>7222.750000</td>\n",
       "      <td>15.836362</td>\n",
       "      <td>3.374800e+04</td>\n",
       "      <td>1.000000</td>\n",
       "      <td>1.642595e+09</td>\n",
       "      <td>41.134575</td>\n",
       "      <td>94.359700</td>\n",
       "    </tr>\n",
       "    <tr>\n",
       "      <th>max</th>\n",
       "      <td>9685.000000</td>\n",
       "      <td>5000.000000</td>\n",
       "      <td>374.000000</td>\n",
       "      <td>9669.000000</td>\n",
       "      <td>215.448880</td>\n",
       "      <td>1.269184e+07</td>\n",
       "      <td>2.000000</td>\n",
       "      <td>4.294356e+09</td>\n",
       "      <td>72.627500</td>\n",
       "      <td>179.422100</td>\n",
       "    </tr>\n",
       "  </tbody>\n",
       "</table>\n",
       "</div>"
      ],
      "text/plain": [
       "                id   fatalities     injuries       cat_id     distance  \\\n",
       "count  9564.000000  8212.000000  3942.000000  9530.000000  9530.000000   \n",
       "mean   4824.008260     3.537141     0.852359  4806.020042    11.902521   \n",
       "std    2799.040122    64.669763     8.280788  2792.516669    15.618193   \n",
       "min       1.000000     0.000000     0.000000     1.000000     0.000030   \n",
       "25%    2401.750000     0.000000     0.000000  2390.250000     2.367748   \n",
       "50%    4805.500000     0.000000     0.000000  4782.500000     6.264345   \n",
       "75%    7253.250000     1.000000     0.000000  7222.750000    15.836362   \n",
       "max    9685.000000  5000.000000   374.000000  9669.000000   215.448880   \n",
       "\n",
       "         population      version  changeset_id     latitude    longitude  \n",
       "count  9.530000e+03  9555.000000  9.555000e+03  9564.000000  9564.000000  \n",
       "mean   1.568749e+05     1.121193  8.807481e+08    25.661806     3.815776  \n",
       "std    8.272427e+05     0.326369  1.325119e+09    20.416185   100.238678  \n",
       "min    0.000000e+00     1.000000  1.000000e+00   -46.774800  -170.799800  \n",
       "25%    1.940000e+03     1.000000  1.000000e+00    13.579075  -104.920000  \n",
       "50%    7.317000e+03     1.000000  1.000000e+00    29.855400    23.184050  \n",
       "75%    3.374800e+04     1.000000  1.642595e+09    41.134575    94.359700  \n",
       "max    1.269184e+07     2.000000  4.294356e+09    72.627500   179.422100  "
      ]
     },
     "execution_count": 6,
     "metadata": {},
     "output_type": "execute_result"
    }
   ],
   "source": [
    "raw_data.describe()"
   ]
  },
  {
   "cell_type": "code",
   "execution_count": 7,
   "metadata": {},
   "outputs": [
    {
     "data": {
      "text/plain": [
       "5.0     2\n",
       "6.0     2\n",
       "2.0     2\n",
       "7.0     2\n",
       "1.0     2\n",
       "8.0     1\n",
       "24.0    1\n",
       "28.0    1\n",
       "13.0    1\n",
       "Name: fatalities, dtype: int64"
      ]
     },
     "execution_count": 7,
     "metadata": {},
     "output_type": "execute_result"
    }
   ],
   "source": [
    "raw_data[\"fatalities\"][:20].value_counts()"
   ]
  },
  {
   "cell_type": "code",
   "execution_count": 8,
   "metadata": {},
   "outputs": [
    {
     "data": {
      "image/png": "[encoded data removed]",
      "text/plain": [
       "<Figure size 1440x1080 with 12 Axes>"
      ]
     },
     "metadata": {
      "needs_background": "light"
     },
     "output_type": "display_data"
    }
   ],
   "source": [
    "%matplotlib inline\n",
    "import matplotlib.pyplot as plt\n",
    "raw_data.hist(bins=10, figsize=(20,15))\n",
    "plt.show()"
   ]
  },
  {
   "cell_type": "code",
   "execution_count": 9,
   "metadata": {},
   "outputs": [
    {
     "data": {
      "text/plain": [
       "<matplotlib.axes._subplots.AxesSubplot at 0x1205b6d90>"
      ]
     },
     "execution_count": 9,
     "metadata": {},
     "output_type": "execute_result"
    },
    {
     "data": {
      "image/png": "[encoded data removed]",
      "text/plain": [
       "<Figure size 432x288 with 1 Axes>"
      ]
     },
     "metadata": {
      "needs_background": "light"
     },
     "output_type": "display_data"
    }
   ],
   "source": [
    "raw_data[\"fatalities\"].value_counts()[:20].plot(kind='barh')"
   ]
  },
  {
   "cell_type": "code",
   "execution_count": 10,
   "metadata": {},
   "outputs": [
    {
     "data": {
      "text/plain": [
       "<matplotlib.axes._subplots.AxesSubplot at 0x1208e3590>"
      ]
     },
     "execution_count": 10,
     "metadata": {},
     "output_type": "execute_result"
    },
    {
     "data": {
      "image/png": "[encoded data removed]",
      "text/plain": [
       "<Figure size 1008x432 with 1 Axes>"
      ]
     },
     "metadata": {
      "needs_background": "light"
     },
     "output_type": "display_data"
    }
   ],
   "source": [
    "bin_values = np.arange(start=0, stop=50, step=1)\n",
    "raw_data[\"fatalities\"].hist(bins=bin_values, figsize=[14,6])"
   ]
  },
  {
   "cell_type": "code",
   "execution_count": 11,
   "metadata": {},
   "outputs": [],
   "source": [
    "new_data = raw_data[[\"fatalities\", \"landslide_size\", \"trigger\", \"hazard_type\", \"country\", \"population\", \"latitude\", \"longitude\"]]"
   ]
  },
  {
   "cell_type": "code",
   "execution_count": 12,
   "metadata": {},
   "outputs": [],
   "source": [
    "new_data = new_data.dropna(axis=0, how='any') # dropping all data points that has NaN in new_data"
   ]
  },
  {
   "cell_type": "code",
   "execution_count": 13,
   "metadata": {},
   "outputs": [],
   "source": [
    "df = pd.DataFrame(new_data)"
   ]
  },
  {
   "cell_type": "code",
   "execution_count": 14,
   "metadata": {},
   "outputs": [],
   "source": [
    "df = df.sample(100) # Randomly selecting 100 samples "
   ]
  },
  {
   "cell_type": "code",
   "execution_count": 15,
   "metadata": {},
   "outputs": [
    {
     "data": {
      "text/html": [
       "<div>\n",
       "<style scoped>\n",
       "    .dataframe tbody tr th:only-of-type {\n",
       "        vertical-align: middle;\n",
       "    }\n",
       "\n",
       "    .dataframe tbody tr th {\n",
       "        vertical-align: top;\n",
       "    }\n",
       "\n",
       "    .dataframe thead th {\n",
       "        text-align: right;\n",
       "    }\n",
       "</style>\n",
       "<table border=\"1\" class=\"dataframe\">\n",
       "  <thead>\n",
       "    <tr style=\"text-align: right;\">\n",
       "      <th></th>\n",
       "      <th>fatalities</th>\n",
       "      <th>landslide_size</th>\n",
       "      <th>trigger</th>\n",
       "      <th>hazard_type</th>\n",
       "      <th>country</th>\n",
       "      <th>population</th>\n",
       "      <th>latitude</th>\n",
       "      <th>longitude</th>\n",
       "    </tr>\n",
       "  </thead>\n",
       "  <tbody>\n",
       "    <tr>\n",
       "      <th>943</th>\n",
       "      <td>1.0</td>\n",
       "      <td>Medium</td>\n",
       "      <td>Unknown</td>\n",
       "      <td>landslide</td>\n",
       "      <td>India</td>\n",
       "      <td>40283.0</td>\n",
       "      <td>30.8950</td>\n",
       "      <td>77.0890</td>\n",
       "    </tr>\n",
       "    <tr>\n",
       "      <th>3594</th>\n",
       "      <td>0.0</td>\n",
       "      <td>Small</td>\n",
       "      <td>Downpour</td>\n",
       "      <td>landslide</td>\n",
       "      <td>China</td>\n",
       "      <td>0.0</td>\n",
       "      <td>29.1935</td>\n",
       "      <td>119.7975</td>\n",
       "    </tr>\n",
       "    <tr>\n",
       "      <th>3240</th>\n",
       "      <td>0.0</td>\n",
       "      <td>Medium</td>\n",
       "      <td>Rain</td>\n",
       "      <td>landslide</td>\n",
       "      <td>United States</td>\n",
       "      <td>1009.0</td>\n",
       "      <td>43.3197</td>\n",
       "      <td>-73.9295</td>\n",
       "    </tr>\n",
       "    <tr>\n",
       "      <th>2402</th>\n",
       "      <td>0.0</td>\n",
       "      <td>Medium</td>\n",
       "      <td>Downpour</td>\n",
       "      <td>landslide</td>\n",
       "      <td>Italy</td>\n",
       "      <td>887.0</td>\n",
       "      <td>40.6378</td>\n",
       "      <td>14.6074</td>\n",
       "    </tr>\n",
       "    <tr>\n",
       "      <th>5707</th>\n",
       "      <td>0.0</td>\n",
       "      <td>Medium</td>\n",
       "      <td>Downpour</td>\n",
       "      <td>landslide</td>\n",
       "      <td>United Kingdom</td>\n",
       "      <td>25500.0</td>\n",
       "      <td>51.2934</td>\n",
       "      <td>-0.1532</td>\n",
       "    </tr>\n",
       "  </tbody>\n",
       "</table>\n",
       "</div>"
      ],
      "text/plain": [
       "      fatalities landslide_size   trigger hazard_type         country  \\\n",
       "943          1.0         Medium   Unknown   landslide           India   \n",
       "3594         0.0          Small  Downpour   landslide           China   \n",
       "3240         0.0         Medium      Rain   landslide   United States   \n",
       "2402         0.0         Medium  Downpour   landslide           Italy   \n",
       "5707         0.0         Medium  Downpour   landslide  United Kingdom   \n",
       "\n",
       "      population  latitude  longitude  \n",
       "943      40283.0   30.8950    77.0890  \n",
       "3594         0.0   29.1935   119.7975  \n",
       "3240      1009.0   43.3197   -73.9295  \n",
       "2402       887.0   40.6378    14.6074  \n",
       "5707     25500.0   51.2934    -0.1532  "
      ]
     },
     "execution_count": 15,
     "metadata": {},
     "output_type": "execute_result"
    }
   ],
   "source": [
    "df.head()"
   ]
  },
  {
   "cell_type": "code",
   "execution_count": 16,
   "metadata": {},
   "outputs": [],
   "source": [
    "df.loc[df.landslide_size == 'medium', 'landslide_size'] = 'Medium'"
   ]
  },
  {
   "cell_type": "code",
   "execution_count": 17,
   "metadata": {},
   "outputs": [],
   "source": [
    "df.loc[df.landslide_size == 'small', 'landslide_size'] = 'Small'"
   ]
  },
  {
   "cell_type": "code",
   "execution_count": 18,
   "metadata": {},
   "outputs": [],
   "source": [
    "import string\n",
    "df.landslide_size = df.landslide_size.apply(string.capitalize) \n",
    "    # Capitalizing the string since there were some landslide_size written as 'small', 'medium', and 'large "
   ]
  },
  {
   "cell_type": "code",
   "execution_count": 19,
   "metadata": {},
   "outputs": [
    {
     "name": "stdout",
     "output_type": "stream",
     "text": [
      "Medium    69\n",
      "Small     21\n",
      "Large     10\n",
      "Name: landslide_size, dtype: int64\n"
     ]
    }
   ],
   "source": [
    "print(df.landslide_size.value_counts()) # counting the number of data based on landlide_size"
   ]
  },
  {
   "cell_type": "code",
   "execution_count": 20,
   "metadata": {},
   "outputs": [],
   "source": [
    "# df.to_csv('modified_dataset.csv')"
   ]
  }
 ],
 "metadata": {
  "kernelspec": {
   "display_name": "Python 2",
   "language": "python",
   "name": "python2"
  },
  "language_info": {
   "codemirror_mode": {
    "name": "ipython",
    "version": 2
   },
   "file_extension": ".py",
   "mimetype": "text/x-python",
   "name": "python",
   "nbconvert_exporter": "python",
   "pygments_lexer": "ipython2",
   "version": "2.7.15"
  }
 },
 "nbformat": 4,
 "nbformat_minor": 2
}
