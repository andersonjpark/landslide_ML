{
 "cells": [
  {
   "cell_type": "code",
   "execution_count": 68,
   "metadata": {
    "collapsed": true
   },
   "outputs": [],
   "source": [
    "import os\n",
    "import numpy as np\n",
    "import pandas as pd\n",
    "import matplotlib.pyplot as plt\n",
    "%matplotlib inline\n",
    "#df.to_csv('modified_dataset.csv')"
   ]
  },
  {
   "cell_type": "code",
   "execution_count": 69,
   "metadata": {
    "collapsed": false
   },
   "outputs": [],
   "source": [
    "raw_data = pd.read_csv(\"global_landslides.csv\")"
   ]
  },
  {
   "cell_type": "code",
   "execution_count": 70,
   "metadata": {
    "collapsed": false
   },
   "outputs": [
    {
     "data": {
      "text/html": [
       "<div>\n",
       "<style>\n",
       "    .dataframe thead tr:only-child th {\n",
       "        text-align: right;\n",
       "    }\n",
       "\n",
       "    .dataframe thead th {\n",
       "        text-align: left;\n",
       "    }\n",
       "\n",
       "    .dataframe tbody tr th {\n",
       "        vertical-align: top;\n",
       "    }\n",
       "</style>\n",
       "<table border=\"1\" class=\"dataframe\">\n",
       "  <thead>\n",
       "    <tr style=\"text-align: right;\">\n",
       "      <th></th>\n",
       "      <th>id</th>\n",
       "      <th>date</th>\n",
       "      <th>time</th>\n",
       "      <th>country</th>\n",
       "      <th>nearest_places</th>\n",
       "      <th>hazard_type</th>\n",
       "      <th>landslide_type</th>\n",
       "      <th>trigger</th>\n",
       "      <th>storm_name</th>\n",
       "      <th>fatalities</th>\n",
       "      <th>...</th>\n",
       "      <th>population</th>\n",
       "      <th>countrycode</th>\n",
       "      <th>continentcode</th>\n",
       "      <th>key</th>\n",
       "      <th>version</th>\n",
       "      <th>tstamp</th>\n",
       "      <th>changeset_id</th>\n",
       "      <th>latitude</th>\n",
       "      <th>longitude</th>\n",
       "      <th>geolocation</th>\n",
       "    </tr>\n",
       "  </thead>\n",
       "  <tbody>\n",
       "    <tr>\n",
       "      <th>0</th>\n",
       "      <td>1</td>\n",
       "      <td>01/02/2007</td>\n",
       "      <td>NaN</td>\n",
       "      <td>United Kingdom</td>\n",
       "      <td>Whitehaven, Cumbria</td>\n",
       "      <td>landslide</td>\n",
       "      <td>Landslide</td>\n",
       "      <td>Rain</td>\n",
       "      <td>NaN</td>\n",
       "      <td>1.0</td>\n",
       "      <td>...</td>\n",
       "      <td>24803.0</td>\n",
       "      <td>GB</td>\n",
       "      <td>EU</td>\n",
       "      <td>sGaiIKdcW</td>\n",
       "      <td>1.0</td>\n",
       "      <td>Tue Apr 01 2014 00:00:00 GMT+0000 (UTC)</td>\n",
       "      <td>1.0</td>\n",
       "      <td>54.549400</td>\n",
       "      <td>-3.587500</td>\n",
       "      <td>(54.549399999999999, -3.5874999999999999)</td>\n",
       "    </tr>\n",
       "    <tr>\n",
       "      <th>1</th>\n",
       "      <td>2</td>\n",
       "      <td>01/03/2007</td>\n",
       "      <td>NaN</td>\n",
       "      <td>Peru</td>\n",
       "      <td>Alto Mesapata, in the Pasco province</td>\n",
       "      <td>landslide</td>\n",
       "      <td>Complex</td>\n",
       "      <td>Rain</td>\n",
       "      <td>NaN</td>\n",
       "      <td>NaN</td>\n",
       "      <td>...</td>\n",
       "      <td>0.0</td>\n",
       "      <td>PE</td>\n",
       "      <td>SA</td>\n",
       "      <td>S95OsumK4</td>\n",
       "      <td>1.0</td>\n",
       "      <td>Tue Apr 01 2014 00:00:00 GMT+0000 (UTC)</td>\n",
       "      <td>1.0</td>\n",
       "      <td>-10.383800</td>\n",
       "      <td>-75.426700</td>\n",
       "      <td>(-10.383800000000001, -75.426699999999997)</td>\n",
       "    </tr>\n",
       "    <tr>\n",
       "      <th>2</th>\n",
       "      <td>3</td>\n",
       "      <td>01/05/2007</td>\n",
       "      <td>NaN</td>\n",
       "      <td>Brazil</td>\n",
       "      <td>Nova Friburgo, Rio de Janeiro</td>\n",
       "      <td>landslide</td>\n",
       "      <td>Landslide</td>\n",
       "      <td>Rain</td>\n",
       "      <td>NaN</td>\n",
       "      <td>7.0</td>\n",
       "      <td>...</td>\n",
       "      <td>153361.0</td>\n",
       "      <td>BR</td>\n",
       "      <td>SA</td>\n",
       "      <td>D5vlNdgB7</td>\n",
       "      <td>1.0</td>\n",
       "      <td>Tue Apr 01 2014 00:00:00 GMT+0000 (UTC)</td>\n",
       "      <td>1.0</td>\n",
       "      <td>-22.282346</td>\n",
       "      <td>-42.536362</td>\n",
       "      <td>(-22.282346350000001, -42.536362050000001)</td>\n",
       "    </tr>\n",
       "    <tr>\n",
       "      <th>3</th>\n",
       "      <td>4</td>\n",
       "      <td>01/05/2007</td>\n",
       "      <td>NaN</td>\n",
       "      <td>Brazil</td>\n",
       "      <td>Sumidouro, Rio de Janeiro</td>\n",
       "      <td>landslide</td>\n",
       "      <td>Landslide</td>\n",
       "      <td>Rain</td>\n",
       "      <td>NaN</td>\n",
       "      <td>2.0</td>\n",
       "      <td>...</td>\n",
       "      <td>11555.0</td>\n",
       "      <td>BR</td>\n",
       "      <td>SA</td>\n",
       "      <td>h5J8IFdc4</td>\n",
       "      <td>1.0</td>\n",
       "      <td>Tue Apr 01 2014 00:00:00 GMT+0000 (UTC)</td>\n",
       "      <td>1.0</td>\n",
       "      <td>-22.045200</td>\n",
       "      <td>-42.673400</td>\n",
       "      <td>(-22.045200000000001, -42.673400000000001)</td>\n",
       "    </tr>\n",
       "    <tr>\n",
       "      <th>4</th>\n",
       "      <td>5</td>\n",
       "      <td>01/05/2007</td>\n",
       "      <td>NaN</td>\n",
       "      <td>Brazil</td>\n",
       "      <td>Jundiai, Sao Paulo</td>\n",
       "      <td>landslide</td>\n",
       "      <td>Landslide</td>\n",
       "      <td>Rain</td>\n",
       "      <td>NaN</td>\n",
       "      <td>1.0</td>\n",
       "      <td>...</td>\n",
       "      <td>54415.0</td>\n",
       "      <td>BR</td>\n",
       "      <td>SA</td>\n",
       "      <td>s5Zb5FdB4</td>\n",
       "      <td>1.0</td>\n",
       "      <td>Tue Apr 01 2014 00:00:00 GMT+0000 (UTC)</td>\n",
       "      <td>1.0</td>\n",
       "      <td>-23.231100</td>\n",
       "      <td>-46.613600</td>\n",
       "      <td>(-23.231100000000001, -46.613599999999998)</td>\n",
       "    </tr>\n",
       "  </tbody>\n",
       "</table>\n",
       "<p>5 rows × 34 columns</p>\n",
       "</div>"
      ],
      "text/plain": [
       "   id        date time         country                        nearest_places  \\\n",
       "0   1  01/02/2007  NaN  United Kingdom                   Whitehaven, Cumbria   \n",
       "1   2  01/03/2007  NaN            Peru  Alto Mesapata, in the Pasco province   \n",
       "2   3  01/05/2007  NaN          Brazil         Nova Friburgo, Rio de Janeiro   \n",
       "3   4  01/05/2007  NaN          Brazil             Sumidouro, Rio de Janeiro   \n",
       "4   5  01/05/2007  NaN          Brazil                    Jundiai, Sao Paulo   \n",
       "\n",
       "  hazard_type landslide_type trigger storm_name  fatalities  \\\n",
       "0   landslide      Landslide    Rain        NaN         1.0   \n",
       "1   landslide        Complex    Rain        NaN         NaN   \n",
       "2   landslide      Landslide    Rain        NaN         7.0   \n",
       "3   landslide      Landslide    Rain        NaN         2.0   \n",
       "4   landslide      Landslide    Rain        NaN         1.0   \n",
       "\n",
       "                      ...                      population countrycode  \\\n",
       "0                     ...                         24803.0          GB   \n",
       "1                     ...                             0.0          PE   \n",
       "2                     ...                        153361.0          BR   \n",
       "3                     ...                         11555.0          BR   \n",
       "4                     ...                         54415.0          BR   \n",
       "\n",
       "  continentcode        key version                                   tstamp  \\\n",
       "0            EU  sGaiIKdcW     1.0  Tue Apr 01 2014 00:00:00 GMT+0000 (UTC)   \n",
       "1            SA  S95OsumK4     1.0  Tue Apr 01 2014 00:00:00 GMT+0000 (UTC)   \n",
       "2            SA  D5vlNdgB7     1.0  Tue Apr 01 2014 00:00:00 GMT+0000 (UTC)   \n",
       "3            SA  h5J8IFdc4     1.0  Tue Apr 01 2014 00:00:00 GMT+0000 (UTC)   \n",
       "4            SA  s5Zb5FdB4     1.0  Tue Apr 01 2014 00:00:00 GMT+0000 (UTC)   \n",
       "\n",
       "  changeset_id   latitude  longitude  \\\n",
       "0          1.0  54.549400  -3.587500   \n",
       "1          1.0 -10.383800 -75.426700   \n",
       "2          1.0 -22.282346 -42.536362   \n",
       "3          1.0 -22.045200 -42.673400   \n",
       "4          1.0 -23.231100 -46.613600   \n",
       "\n",
       "                                  geolocation  \n",
       "0   (54.549399999999999, -3.5874999999999999)  \n",
       "1  (-10.383800000000001, -75.426699999999997)  \n",
       "2  (-22.282346350000001, -42.536362050000001)  \n",
       "3  (-22.045200000000001, -42.673400000000001)  \n",
       "4  (-23.231100000000001, -46.613599999999998)  \n",
       "\n",
       "[5 rows x 34 columns]"
      ]
     },
     "execution_count": 70,
     "metadata": {},
     "output_type": "execute_result"
    }
   ],
   "source": [
    "raw_data.head()"
   ]
  },
  {
   "cell_type": "code",
   "execution_count": 71,
   "metadata": {
    "collapsed": false
   },
   "outputs": [],
   "source": [
    "new_data = raw_data[[\"fatalities\", \"landslide_size\", \"latitude\", \"longitude\"]]"
   ]
  },
  {
   "cell_type": "code",
   "execution_count": 72,
   "metadata": {
    "collapsed": true
   },
   "outputs": [],
   "source": [
    "new_data = new_data.dropna(axis=0, how='any')"
   ]
  },
  {
   "cell_type": "code",
   "execution_count": null,
   "metadata": {
    "collapsed": true
   },
   "outputs": [],
   "source": [
    "data_small = new_data[[\"fa\"]]"
   ]
  },
  {
   "cell_type": "code",
   "execution_count": 73,
   "metadata": {
    "collapsed": false
   },
   "outputs": [],
   "source": [
    "df = pd.DataFrame(new_data)"
   ]
  },
  {
   "cell_type": "code",
   "execution_count": 74,
   "metadata": {
    "collapsed": false
   },
   "outputs": [],
   "source": [
    "df = df.sample(100)"
   ]
  },
  {
   "cell_type": "code",
   "execution_count": 75,
   "metadata": {
    "collapsed": false
   },
   "outputs": [
    {
     "data": {
      "text/html": [
       "<div>\n",
       "<style>\n",
       "    .dataframe thead tr:only-child th {\n",
       "        text-align: right;\n",
       "    }\n",
       "\n",
       "    .dataframe thead th {\n",
       "        text-align: left;\n",
       "    }\n",
       "\n",
       "    .dataframe tbody tr th {\n",
       "        vertical-align: top;\n",
       "    }\n",
       "</style>\n",
       "<table border=\"1\" class=\"dataframe\">\n",
       "  <thead>\n",
       "    <tr style=\"text-align: right;\">\n",
       "      <th></th>\n",
       "      <th>fatalities</th>\n",
       "      <th>landslide_size</th>\n",
       "      <th>latitude</th>\n",
       "      <th>longitude</th>\n",
       "    </tr>\n",
       "  </thead>\n",
       "  <tbody>\n",
       "    <tr>\n",
       "      <th>39</th>\n",
       "      <td>10.0</td>\n",
       "      <td>Medium</td>\n",
       "      <td>33.7033</td>\n",
       "      <td>73.0380</td>\n",
       "    </tr>\n",
       "    <tr>\n",
       "      <th>3318</th>\n",
       "      <td>0.0</td>\n",
       "      <td>Small</td>\n",
       "      <td>49.0022</td>\n",
       "      <td>-122.7576</td>\n",
       "    </tr>\n",
       "    <tr>\n",
       "      <th>3323</th>\n",
       "      <td>0.0</td>\n",
       "      <td>Small</td>\n",
       "      <td>41.5490</td>\n",
       "      <td>-124.0611</td>\n",
       "    </tr>\n",
       "    <tr>\n",
       "      <th>4922</th>\n",
       "      <td>13.0</td>\n",
       "      <td>Large</td>\n",
       "      <td>30.6945</td>\n",
       "      <td>79.0544</td>\n",
       "    </tr>\n",
       "    <tr>\n",
       "      <th>2538</th>\n",
       "      <td>0.0</td>\n",
       "      <td>Small</td>\n",
       "      <td>34.2266</td>\n",
       "      <td>-118.0306</td>\n",
       "    </tr>\n",
       "  </tbody>\n",
       "</table>\n",
       "</div>"
      ],
      "text/plain": [
       "      fatalities landslide_size  latitude  longitude\n",
       "39          10.0         Medium   33.7033    73.0380\n",
       "3318         0.0          Small   49.0022  -122.7576\n",
       "3323         0.0          Small   41.5490  -124.0611\n",
       "4922        13.0          Large   30.6945    79.0544\n",
       "2538         0.0          Small   34.2266  -118.0306"
      ]
     },
     "execution_count": 75,
     "metadata": {},
     "output_type": "execute_result"
    }
   ],
   "source": [
    "df.head()"
   ]
  },
  {
   "cell_type": "code",
   "execution_count": 76,
   "metadata": {
    "collapsed": false
   },
   "outputs": [
    {
     "data": {
      "text/plain": [
       "(100, 4)"
      ]
     },
     "execution_count": 76,
     "metadata": {},
     "output_type": "execute_result"
    }
   ],
   "source": [
    "df.shape"
   ]
  },
  {
   "cell_type": "code",
   "execution_count": 77,
   "metadata": {
    "collapsed": false
   },
   "outputs": [],
   "source": [
    "#df.loc[df.landslide_size == 'medium', 'landslide_size'] = 'Medium'"
   ]
  },
  {
   "cell_type": "code",
   "execution_count": 78,
   "metadata": {
    "collapsed": true
   },
   "outputs": [],
   "source": [
    "#df.loc[df.landslide_size == 'small', 'landslide_size'] = 'Small'"
   ]
  },
  {
   "cell_type": "code",
   "execution_count": 79,
   "metadata": {
    "collapsed": false
   },
   "outputs": [],
   "source": [
    "import string\n",
    "df.landslide_size = df.landslide_size.apply(string.capitalize)"
   ]
  },
  {
   "cell_type": "code",
   "execution_count": 80,
   "metadata": {
    "collapsed": false
   },
   "outputs": [
    {
     "name": "stdout",
     "output_type": "stream",
     "text": [
      "Medium    70\n",
      "Small     22\n",
      "Large      8\n",
      "Name: landslide_size, dtype: int64\n"
     ]
    }
   ],
   "source": [
    "print(df.landslide_size.value_counts())"
   ]
  },
  {
   "cell_type": "code",
   "execution_count": 81,
   "metadata": {
    "collapsed": true
   },
   "outputs": [],
   "source": [
    "df.to_csv('modified_dataset.csv')"
   ]
  }
 ],
 "metadata": {
  "kernelspec": {
   "display_name": "Python 2",
   "language": "python",
   "name": "python2"
  },
  "language_info": {
   "codemirror_mode": {
    "name": "ipython",
    "version": 2
   },
   "file_extension": ".py",
   "mimetype": "text/x-python",
   "name": "python",
   "nbconvert_exporter": "python",
   "pygments_lexer": "ipython2",
   "version": "2.7.13"
  }
 },
 "nbformat": 4,
 "nbformat_minor": 2
}
