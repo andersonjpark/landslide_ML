{
 "cells": [
  {
   "cell_type": "code",
   "execution_count": 36,
   "metadata": {
    "collapsed": true
   },
   "outputs": [],
   "source": [
    "import os\n",
    "import numpy as np\n",
    "import pandas as pd\n",
    "import matplotlib.pyplot as plt\n",
    "%matplotlib inline\n",
    "#df.to_csv('modified_dataset.csv')"
   ]
  },
  {
   "cell_type": "code",
   "execution_count": 37,
   "metadata": {
    "collapsed": false
   },
   "outputs": [],
   "source": [
    "raw_data = pd.read_csv(\"global_landslides.csv\")"
   ]
  },
  {
   "cell_type": "code",
   "execution_count": 38,
   "metadata": {
    "collapsed": false
   },
   "outputs": [
    {
     "data": {
      "text/html": [
       "<div>\n",
       "<style>\n",
       "    .dataframe thead tr:only-child th {\n",
       "        text-align: right;\n",
       "    }\n",
       "\n",
       "    .dataframe thead th {\n",
       "        text-align: left;\n",
       "    }\n",
       "\n",
       "    .dataframe tbody tr th {\n",
       "        vertical-align: top;\n",
       "    }\n",
       "</style>\n",
       "<table border=\"1\" class=\"dataframe\">\n",
       "  <thead>\n",
       "    <tr style=\"text-align: right;\">\n",
       "      <th></th>\n",
       "      <th>id</th>\n",
       "      <th>date</th>\n",
       "      <th>time</th>\n",
       "      <th>country</th>\n",
       "      <th>nearest_places</th>\n",
       "      <th>hazard_type</th>\n",
       "      <th>landslide_type</th>\n",
       "      <th>trigger</th>\n",
       "      <th>storm_name</th>\n",
       "      <th>fatalities</th>\n",
       "      <th>...</th>\n",
       "      <th>population</th>\n",
       "      <th>countrycode</th>\n",
       "      <th>continentcode</th>\n",
       "      <th>key</th>\n",
       "      <th>version</th>\n",
       "      <th>tstamp</th>\n",
       "      <th>changeset_id</th>\n",
       "      <th>latitude</th>\n",
       "      <th>longitude</th>\n",
       "      <th>geolocation</th>\n",
       "    </tr>\n",
       "  </thead>\n",
       "  <tbody>\n",
       "    <tr>\n",
       "      <th>0</th>\n",
       "      <td>1</td>\n",
       "      <td>01/02/2007</td>\n",
       "      <td>NaN</td>\n",
       "      <td>United Kingdom</td>\n",
       "      <td>Whitehaven, Cumbria</td>\n",
       "      <td>landslide</td>\n",
       "      <td>Landslide</td>\n",
       "      <td>Rain</td>\n",
       "      <td>NaN</td>\n",
       "      <td>1.0</td>\n",
       "      <td>...</td>\n",
       "      <td>24803.0</td>\n",
       "      <td>GB</td>\n",
       "      <td>EU</td>\n",
       "      <td>sGaiIKdcW</td>\n",
       "      <td>1.0</td>\n",
       "      <td>Tue Apr 01 2014 00:00:00 GMT+0000 (UTC)</td>\n",
       "      <td>1.0</td>\n",
       "      <td>54.549400</td>\n",
       "      <td>-3.587500</td>\n",
       "      <td>(54.549399999999999, -3.5874999999999999)</td>\n",
       "    </tr>\n",
       "    <tr>\n",
       "      <th>1</th>\n",
       "      <td>2</td>\n",
       "      <td>01/03/2007</td>\n",
       "      <td>NaN</td>\n",
       "      <td>Peru</td>\n",
       "      <td>Alto Mesapata, in the Pasco province</td>\n",
       "      <td>landslide</td>\n",
       "      <td>Complex</td>\n",
       "      <td>Rain</td>\n",
       "      <td>NaN</td>\n",
       "      <td>NaN</td>\n",
       "      <td>...</td>\n",
       "      <td>0.0</td>\n",
       "      <td>PE</td>\n",
       "      <td>SA</td>\n",
       "      <td>S95OsumK4</td>\n",
       "      <td>1.0</td>\n",
       "      <td>Tue Apr 01 2014 00:00:00 GMT+0000 (UTC)</td>\n",
       "      <td>1.0</td>\n",
       "      <td>-10.383800</td>\n",
       "      <td>-75.426700</td>\n",
       "      <td>(-10.383800000000001, -75.426699999999997)</td>\n",
       "    </tr>\n",
       "    <tr>\n",
       "      <th>2</th>\n",
       "      <td>3</td>\n",
       "      <td>01/05/2007</td>\n",
       "      <td>NaN</td>\n",
       "      <td>Brazil</td>\n",
       "      <td>Nova Friburgo, Rio de Janeiro</td>\n",
       "      <td>landslide</td>\n",
       "      <td>Landslide</td>\n",
       "      <td>Rain</td>\n",
       "      <td>NaN</td>\n",
       "      <td>7.0</td>\n",
       "      <td>...</td>\n",
       "      <td>153361.0</td>\n",
       "      <td>BR</td>\n",
       "      <td>SA</td>\n",
       "      <td>D5vlNdgB7</td>\n",
       "      <td>1.0</td>\n",
       "      <td>Tue Apr 01 2014 00:00:00 GMT+0000 (UTC)</td>\n",
       "      <td>1.0</td>\n",
       "      <td>-22.282346</td>\n",
       "      <td>-42.536362</td>\n",
       "      <td>(-22.282346350000001, -42.536362050000001)</td>\n",
       "    </tr>\n",
       "    <tr>\n",
       "      <th>3</th>\n",
       "      <td>4</td>\n",
       "      <td>01/05/2007</td>\n",
       "      <td>NaN</td>\n",
       "      <td>Brazil</td>\n",
       "      <td>Sumidouro, Rio de Janeiro</td>\n",
       "      <td>landslide</td>\n",
       "      <td>Landslide</td>\n",
       "      <td>Rain</td>\n",
       "      <td>NaN</td>\n",
       "      <td>2.0</td>\n",
       "      <td>...</td>\n",
       "      <td>11555.0</td>\n",
       "      <td>BR</td>\n",
       "      <td>SA</td>\n",
       "      <td>h5J8IFdc4</td>\n",
       "      <td>1.0</td>\n",
       "      <td>Tue Apr 01 2014 00:00:00 GMT+0000 (UTC)</td>\n",
       "      <td>1.0</td>\n",
       "      <td>-22.045200</td>\n",
       "      <td>-42.673400</td>\n",
       "      <td>(-22.045200000000001, -42.673400000000001)</td>\n",
       "    </tr>\n",
       "    <tr>\n",
       "      <th>4</th>\n",
       "      <td>5</td>\n",
       "      <td>01/05/2007</td>\n",
       "      <td>NaN</td>\n",
       "      <td>Brazil</td>\n",
       "      <td>Jundiai, Sao Paulo</td>\n",
       "      <td>landslide</td>\n",
       "      <td>Landslide</td>\n",
       "      <td>Rain</td>\n",
       "      <td>NaN</td>\n",
       "      <td>1.0</td>\n",
       "      <td>...</td>\n",
       "      <td>54415.0</td>\n",
       "      <td>BR</td>\n",
       "      <td>SA</td>\n",
       "      <td>s5Zb5FdB4</td>\n",
       "      <td>1.0</td>\n",
       "      <td>Tue Apr 01 2014 00:00:00 GMT+0000 (UTC)</td>\n",
       "      <td>1.0</td>\n",
       "      <td>-23.231100</td>\n",
       "      <td>-46.613600</td>\n",
       "      <td>(-23.231100000000001, -46.613599999999998)</td>\n",
       "    </tr>\n",
       "  </tbody>\n",
       "</table>\n",
       "<p>5 rows × 34 columns</p>\n",
       "</div>"
      ],
      "text/plain": [
       "   id        date time         country                        nearest_places  \\\n",
       "0   1  01/02/2007  NaN  United Kingdom                   Whitehaven, Cumbria   \n",
       "1   2  01/03/2007  NaN            Peru  Alto Mesapata, in the Pasco province   \n",
       "2   3  01/05/2007  NaN          Brazil         Nova Friburgo, Rio de Janeiro   \n",
       "3   4  01/05/2007  NaN          Brazil             Sumidouro, Rio de Janeiro   \n",
       "4   5  01/05/2007  NaN          Brazil                    Jundiai, Sao Paulo   \n",
       "\n",
       "  hazard_type landslide_type trigger storm_name  fatalities  \\\n",
       "0   landslide      Landslide    Rain        NaN         1.0   \n",
       "1   landslide        Complex    Rain        NaN         NaN   \n",
       "2   landslide      Landslide    Rain        NaN         7.0   \n",
       "3   landslide      Landslide    Rain        NaN         2.0   \n",
       "4   landslide      Landslide    Rain        NaN         1.0   \n",
       "\n",
       "                      ...                      population countrycode  \\\n",
       "0                     ...                         24803.0          GB   \n",
       "1                     ...                             0.0          PE   \n",
       "2                     ...                        153361.0          BR   \n",
       "3                     ...                         11555.0          BR   \n",
       "4                     ...                         54415.0          BR   \n",
       "\n",
       "  continentcode        key version                                   tstamp  \\\n",
       "0            EU  sGaiIKdcW     1.0  Tue Apr 01 2014 00:00:00 GMT+0000 (UTC)   \n",
       "1            SA  S95OsumK4     1.0  Tue Apr 01 2014 00:00:00 GMT+0000 (UTC)   \n",
       "2            SA  D5vlNdgB7     1.0  Tue Apr 01 2014 00:00:00 GMT+0000 (UTC)   \n",
       "3            SA  h5J8IFdc4     1.0  Tue Apr 01 2014 00:00:00 GMT+0000 (UTC)   \n",
       "4            SA  s5Zb5FdB4     1.0  Tue Apr 01 2014 00:00:00 GMT+0000 (UTC)   \n",
       "\n",
       "  changeset_id   latitude  longitude  \\\n",
       "0          1.0  54.549400  -3.587500   \n",
       "1          1.0 -10.383800 -75.426700   \n",
       "2          1.0 -22.282346 -42.536362   \n",
       "3          1.0 -22.045200 -42.673400   \n",
       "4          1.0 -23.231100 -46.613600   \n",
       "\n",
       "                                  geolocation  \n",
       "0   (54.549399999999999, -3.5874999999999999)  \n",
       "1  (-10.383800000000001, -75.426699999999997)  \n",
       "2  (-22.282346350000001, -42.536362050000001)  \n",
       "3  (-22.045200000000001, -42.673400000000001)  \n",
       "4  (-23.231100000000001, -46.613599999999998)  \n",
       "\n",
       "[5 rows x 34 columns]"
      ]
     },
     "execution_count": 38,
     "metadata": {},
     "output_type": "execute_result"
    }
   ],
   "source": [
    "raw_data.head()"
   ]
  },
  {
   "cell_type": "code",
   "execution_count": 39,
   "metadata": {
    "collapsed": false
   },
   "outputs": [],
   "source": [
    "new_data = raw_data[[\"fatalities\", \"landslide_size\", \"latitude\", \"longitude\"]]"
   ]
  },
  {
   "cell_type": "code",
   "execution_count": 40,
   "metadata": {
    "collapsed": true
   },
   "outputs": [],
   "source": [
    "new_data = new_data.dropna(axis=0, how='any')"
   ]
  },
  {
   "cell_type": "code",
   "execution_count": 41,
   "metadata": {
    "collapsed": false
   },
   "outputs": [],
   "source": [
    "df = pd.DataFrame(new_data)"
   ]
  },
  {
   "cell_type": "code",
   "execution_count": 42,
   "metadata": {
    "collapsed": false
   },
   "outputs": [],
   "source": [
    "df = df.sample(100)"
   ]
  },
  {
   "cell_type": "code",
   "execution_count": 43,
   "metadata": {
    "collapsed": false
   },
   "outputs": [
    {
     "data": {
      "text/html": [
       "<div>\n",
       "<style>\n",
       "    .dataframe thead tr:only-child th {\n",
       "        text-align: right;\n",
       "    }\n",
       "\n",
       "    .dataframe thead th {\n",
       "        text-align: left;\n",
       "    }\n",
       "\n",
       "    .dataframe tbody tr th {\n",
       "        vertical-align: top;\n",
       "    }\n",
       "</style>\n",
       "<table border=\"1\" class=\"dataframe\">\n",
       "  <thead>\n",
       "    <tr style=\"text-align: right;\">\n",
       "      <th></th>\n",
       "      <th>fatalities</th>\n",
       "      <th>landslide_size</th>\n",
       "      <th>latitude</th>\n",
       "      <th>longitude</th>\n",
       "    </tr>\n",
       "  </thead>\n",
       "  <tbody>\n",
       "    <tr>\n",
       "      <th>8923</th>\n",
       "      <td>0.0</td>\n",
       "      <td>Medium</td>\n",
       "      <td>47.4085</td>\n",
       "      <td>-121.4068</td>\n",
       "    </tr>\n",
       "    <tr>\n",
       "      <th>6843</th>\n",
       "      <td>0.0</td>\n",
       "      <td>Small</td>\n",
       "      <td>40.4836</td>\n",
       "      <td>-79.9043</td>\n",
       "    </tr>\n",
       "    <tr>\n",
       "      <th>3412</th>\n",
       "      <td>0.0</td>\n",
       "      <td>Medium</td>\n",
       "      <td>-39.0336</td>\n",
       "      <td>177.4174</td>\n",
       "    </tr>\n",
       "    <tr>\n",
       "      <th>2725</th>\n",
       "      <td>0.0</td>\n",
       "      <td>Medium</td>\n",
       "      <td>50.4149</td>\n",
       "      <td>-4.6717</td>\n",
       "    </tr>\n",
       "    <tr>\n",
       "      <th>98</th>\n",
       "      <td>2.0</td>\n",
       "      <td>Medium</td>\n",
       "      <td>19.0298</td>\n",
       "      <td>72.9104</td>\n",
       "    </tr>\n",
       "  </tbody>\n",
       "</table>\n",
       "</div>"
      ],
      "text/plain": [
       "      fatalities landslide_size  latitude  longitude\n",
       "8923         0.0         Medium   47.4085  -121.4068\n",
       "6843         0.0          Small   40.4836   -79.9043\n",
       "3412         0.0         Medium  -39.0336   177.4174\n",
       "2725         0.0         Medium   50.4149    -4.6717\n",
       "98           2.0         Medium   19.0298    72.9104"
      ]
     },
     "execution_count": 43,
     "metadata": {},
     "output_type": "execute_result"
    }
   ],
   "source": [
    "df.head()"
   ]
  },
  {
   "cell_type": "code",
   "execution_count": 44,
   "metadata": {
    "collapsed": false
   },
   "outputs": [
    {
     "data": {
      "text/plain": [
       "(100, 4)"
      ]
     },
     "execution_count": 44,
     "metadata": {},
     "output_type": "execute_result"
    }
   ],
   "source": [
    "df.shape"
   ]
  },
  {
   "cell_type": "code",
   "execution_count": 45,
   "metadata": {
    "collapsed": false
   },
   "outputs": [],
   "source": [
    "#df.loc[df.landslide_size == 'medium', 'landslide_size'] = 'Medium'"
   ]
  },
  {
   "cell_type": "code",
   "execution_count": 46,
   "metadata": {
    "collapsed": true
   },
   "outputs": [],
   "source": [
    "#df.loc[df.landslide_size == 'small', 'landslide_size'] = 'Small'"
   ]
  },
  {
   "cell_type": "code",
   "execution_count": 47,
   "metadata": {
    "collapsed": false
   },
   "outputs": [],
   "source": [
    "import string\n",
    "df.landslide_size = df.landslide_size.apply(string.capitalize)"
   ]
  },
  {
   "cell_type": "code",
   "execution_count": 48,
   "metadata": {
    "collapsed": false
   },
   "outputs": [
    {
     "name": "stdout",
     "output_type": "stream",
     "text": [
      "Medium     63\n",
      "Small      25\n",
      "Large      11\n",
      "Unknown     1\n",
      "Name: landslide_size, dtype: int64\n"
     ]
    }
   ],
   "source": [
    "print(df.landslide_size.value_counts())"
   ]
  },
  {
   "cell_type": "code",
   "execution_count": 49,
   "metadata": {
    "collapsed": true
   },
   "outputs": [],
   "source": [
    "data_dummies = pd.get_dummies(df)"
   ]
  },
  {
   "cell_type": "code",
   "execution_count": 50,
   "metadata": {
    "collapsed": false
   },
   "outputs": [
    {
     "data": {
      "text/html": [
       "<div>\n",
       "<style>\n",
       "    .dataframe thead tr:only-child th {\n",
       "        text-align: right;\n",
       "    }\n",
       "\n",
       "    .dataframe thead th {\n",
       "        text-align: left;\n",
       "    }\n",
       "\n",
       "    .dataframe tbody tr th {\n",
       "        vertical-align: top;\n",
       "    }\n",
       "</style>\n",
       "<table border=\"1\" class=\"dataframe\">\n",
       "  <thead>\n",
       "    <tr style=\"text-align: right;\">\n",
       "      <th></th>\n",
       "      <th>fatalities</th>\n",
       "      <th>latitude</th>\n",
       "      <th>longitude</th>\n",
       "      <th>landslide_size_Large</th>\n",
       "      <th>landslide_size_Medium</th>\n",
       "      <th>landslide_size_Small</th>\n",
       "      <th>landslide_size_Unknown</th>\n",
       "    </tr>\n",
       "  </thead>\n",
       "  <tbody>\n",
       "    <tr>\n",
       "      <th>8923</th>\n",
       "      <td>0.0</td>\n",
       "      <td>47.4085</td>\n",
       "      <td>-121.4068</td>\n",
       "      <td>0</td>\n",
       "      <td>1</td>\n",
       "      <td>0</td>\n",
       "      <td>0</td>\n",
       "    </tr>\n",
       "    <tr>\n",
       "      <th>6843</th>\n",
       "      <td>0.0</td>\n",
       "      <td>40.4836</td>\n",
       "      <td>-79.9043</td>\n",
       "      <td>0</td>\n",
       "      <td>0</td>\n",
       "      <td>1</td>\n",
       "      <td>0</td>\n",
       "    </tr>\n",
       "    <tr>\n",
       "      <th>3412</th>\n",
       "      <td>0.0</td>\n",
       "      <td>-39.0336</td>\n",
       "      <td>177.4174</td>\n",
       "      <td>0</td>\n",
       "      <td>1</td>\n",
       "      <td>0</td>\n",
       "      <td>0</td>\n",
       "    </tr>\n",
       "    <tr>\n",
       "      <th>2725</th>\n",
       "      <td>0.0</td>\n",
       "      <td>50.4149</td>\n",
       "      <td>-4.6717</td>\n",
       "      <td>0</td>\n",
       "      <td>1</td>\n",
       "      <td>0</td>\n",
       "      <td>0</td>\n",
       "    </tr>\n",
       "    <tr>\n",
       "      <th>98</th>\n",
       "      <td>2.0</td>\n",
       "      <td>19.0298</td>\n",
       "      <td>72.9104</td>\n",
       "      <td>0</td>\n",
       "      <td>1</td>\n",
       "      <td>0</td>\n",
       "      <td>0</td>\n",
       "    </tr>\n",
       "  </tbody>\n",
       "</table>\n",
       "</div>"
      ],
      "text/plain": [
       "      fatalities  latitude  longitude  landslide_size_Large  \\\n",
       "8923         0.0   47.4085  -121.4068                     0   \n",
       "6843         0.0   40.4836   -79.9043                     0   \n",
       "3412         0.0  -39.0336   177.4174                     0   \n",
       "2725         0.0   50.4149    -4.6717                     0   \n",
       "98           2.0   19.0298    72.9104                     0   \n",
       "\n",
       "      landslide_size_Medium  landslide_size_Small  landslide_size_Unknown  \n",
       "8923                      1                     0                       0  \n",
       "6843                      0                     1                       0  \n",
       "3412                      1                     0                       0  \n",
       "2725                      1                     0                       0  \n",
       "98                        1                     0                       0  "
      ]
     },
     "execution_count": 50,
     "metadata": {},
     "output_type": "execute_result"
    }
   ],
   "source": [
    "data_dummies.head()"
   ]
  },
  {
   "cell_type": "code",
   "execution_count": 51,
   "metadata": {
    "collapsed": true
   },
   "outputs": [],
   "source": [
    "data_dummies.to_csv('modified_dataset.csv')"
   ]
  },
  {
   "cell_type": "code",
   "execution_count": null,
   "metadata": {
    "collapsed": true
   },
   "outputs": [],
   "source": []
  }
 ],
 "metadata": {
  "kernelspec": {
   "display_name": "Python 2",
   "language": "python",
   "name": "python2"
  },
  "language_info": {
   "codemirror_mode": {
    "name": "ipython",
    "version": 2
   },
   "file_extension": ".py",
   "mimetype": "text/x-python",
   "name": "python",
   "nbconvert_exporter": "python",
   "pygments_lexer": "ipython2",
   "version": "2.7.13"
  }
 },
 "nbformat": 4,
 "nbformat_minor": 2
}
