{
 "cells": [
  {
   "cell_type": "code",
   "execution_count": 10,
   "metadata": {
    "collapsed": true
   },
   "outputs": [],
   "source": [
    "import os\n",
    "import numpy as np\n",
    "import pandas as pd\n",
    "import matplotlib.pyplot as plt\n",
    "%matplotlib inline\n",
    "\n",
    "new_data = pd.read_csv(\"modified_dataset.csv\")"
   ]
  },
  {
   "cell_type": "code",
   "execution_count": 11,
   "metadata": {
    "collapsed": true
   },
   "outputs": [],
   "source": [
    "df = pd.DataFrame(new_data)"
   ]
  },
  {
   "cell_type": "code",
   "execution_count": 12,
   "metadata": {
    "collapsed": true
   },
   "outputs": [],
   "source": [
    "df = df[[\"fatalities\", \"landslide_size\", \"latitude\", \"longitude\", \"geolocation\"]]"
   ]
  },
  {
   "cell_type": "code",
   "execution_count": 13,
   "metadata": {
    "collapsed": false
   },
   "outputs": [
    {
     "data": {
      "text/html": [
       "<div>\n",
       "<style>\n",
       "    .dataframe thead tr:only-child th {\n",
       "        text-align: right;\n",
       "    }\n",
       "\n",
       "    .dataframe thead th {\n",
       "        text-align: left;\n",
       "    }\n",
       "\n",
       "    .dataframe tbody tr th {\n",
       "        vertical-align: top;\n",
       "    }\n",
       "</style>\n",
       "<table border=\"1\" class=\"dataframe\">\n",
       "  <thead>\n",
       "    <tr style=\"text-align: right;\">\n",
       "      <th></th>\n",
       "      <th>fatalities</th>\n",
       "      <th>landslide_size</th>\n",
       "      <th>latitude</th>\n",
       "      <th>longitude</th>\n",
       "      <th>geolocation</th>\n",
       "    </tr>\n",
       "  </thead>\n",
       "  <tbody>\n",
       "    <tr>\n",
       "      <th>0</th>\n",
       "      <td>0.0</td>\n",
       "      <td>Small</td>\n",
       "      <td>45.5210</td>\n",
       "      <td>-122.6700</td>\n",
       "      <td>(45.521000000000001, -122.67)</td>\n",
       "    </tr>\n",
       "    <tr>\n",
       "      <th>1</th>\n",
       "      <td>0.0</td>\n",
       "      <td>NaN</td>\n",
       "      <td>44.7849</td>\n",
       "      <td>-123.9048</td>\n",
       "      <td>(44.7849, -123.90479999999999)</td>\n",
       "    </tr>\n",
       "    <tr>\n",
       "      <th>2</th>\n",
       "      <td>0.0</td>\n",
       "      <td>Medium</td>\n",
       "      <td>34.6644</td>\n",
       "      <td>73.4637</td>\n",
       "      <td>(34.664400000000001, 73.463700000000003)</td>\n",
       "    </tr>\n",
       "    <tr>\n",
       "      <th>3</th>\n",
       "      <td>4.0</td>\n",
       "      <td>Medium</td>\n",
       "      <td>31.0595</td>\n",
       "      <td>109.0381</td>\n",
       "      <td>(31.0595, 109.0381)</td>\n",
       "    </tr>\n",
       "    <tr>\n",
       "      <th>4</th>\n",
       "      <td>0.0</td>\n",
       "      <td>Small</td>\n",
       "      <td>36.1748</td>\n",
       "      <td>-82.0071</td>\n",
       "      <td>(36.174799999999998, -82.007099999999994)</td>\n",
       "    </tr>\n",
       "  </tbody>\n",
       "</table>\n",
       "</div>"
      ],
      "text/plain": [
       "   fatalities landslide_size  latitude  longitude  \\\n",
       "0         0.0          Small   45.5210  -122.6700   \n",
       "1         0.0            NaN   44.7849  -123.9048   \n",
       "2         0.0         Medium   34.6644    73.4637   \n",
       "3         4.0         Medium   31.0595   109.0381   \n",
       "4         0.0          Small   36.1748   -82.0071   \n",
       "\n",
       "                                 geolocation  \n",
       "0              (45.521000000000001, -122.67)  \n",
       "1             (44.7849, -123.90479999999999)  \n",
       "2   (34.664400000000001, 73.463700000000003)  \n",
       "3                        (31.0595, 109.0381)  \n",
       "4  (36.174799999999998, -82.007099999999994)  "
      ]
     },
     "execution_count": 13,
     "metadata": {},
     "output_type": "execute_result"
    }
   ],
   "source": [
    "df.head()"
   ]
  },
  {
   "cell_type": "code",
   "execution_count": 14,
   "metadata": {
    "collapsed": true
   },
   "outputs": [],
   "source": [
    "df.loc[df.landslide_size == 'medium', 'landslide_size'] = 'Medium'"
   ]
  },
  {
   "cell_type": "code",
   "execution_count": 15,
   "metadata": {
    "collapsed": false
   },
   "outputs": [
    {
     "name": "stdout",
     "output_type": "stream",
     "text": [
      "Medium        57\n",
      "Small         22\n",
      "Large          6\n",
      "Very_large     1\n",
      "Name: landslide_size, dtype: int64\n"
     ]
    }
   ],
   "source": [
    "print(df.landslide_size.value_counts())"
   ]
  },
  {
   "cell_type": "code",
   "execution_count": null,
   "metadata": {
    "collapsed": true
   },
   "outputs": [],
   "source": []
  }
 ],
 "metadata": {
  "kernelspec": {
   "display_name": "Python 2",
   "language": "python",
   "name": "python2"
  },
  "language_info": {
   "codemirror_mode": {
    "name": "ipython",
    "version": 2
   },
   "file_extension": ".py",
   "mimetype": "text/x-python",
   "name": "python",
   "nbconvert_exporter": "python",
   "pygments_lexer": "ipython2",
   "version": "2.7.13"
  }
 },
 "nbformat": 4,
 "nbformat_minor": 2
}
